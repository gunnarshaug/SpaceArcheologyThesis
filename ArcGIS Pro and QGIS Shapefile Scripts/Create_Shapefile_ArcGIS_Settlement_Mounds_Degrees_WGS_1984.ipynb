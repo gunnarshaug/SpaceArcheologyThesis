{
 "cells": [
  {
   "cell_type": "code",
   "execution_count": 7,
   "metadata": {},
   "outputs": [
    {
     "data": {
      "text/html": [
       "<div class='gpresult'><h2>Messages</h2><div id='messages' data-messages='[\"Start Time: torsdag 12. mai 2022 12:59:59\",\"Succeeded at torsdag 12. mai 2022 12:59:59 (Elapsed Time: 0,31 seconds)\"]' data-show='true'><div id = 'default' /></div></div>"
      ],
      "text/plain": [
       "<Result 'C:\\\\Test\\\\Amound_test.shp'>"
      ]
     },
     "execution_count": 7,
     "metadata": {},
     "output_type": "execute_result"
    }
   ],
   "source": [
    "import os\n",
    "import csv\n",
    "import arcpy\n",
    "\n",
    "#This script creates a shapefile from the csv file of the faster R-CNN object detection model results for settlement mounds.\n",
    "#...How to run the notebook.....\n",
    "\n",
    "input_csv = os.path.join('C:/', 'Test', 'SAR_Kandahar_Results.csv')\n",
    "output_filename = 'Amound_test'\n",
    "output_path = os.path.join('C:/', 'Test')\n",
    "output = os.path.join(output_path, output_filename + '.shp')\n",
    "data_list = []\n",
    "# Specifies that the coordinate system is WGS 1984. The number 4326 is the EPSG number of this coordinate system. \n",
    "spatial_ref = arcpy.SpatialReference(4326)\n",
    "\n",
    "with open(input_csv, 'r') as read_obj:\n",
    "    csv_reader = csv.reader(read_obj)\n",
    "    next(csv_reader)\n",
    "    for row in csv_reader:\n",
    "        data_list.append((float(row[4]), float(row[5]), float(row[6]), float(row[7])))\n",
    "        \n",
    "\n",
    "bboxGeom = [] \n",
    "\n",
    "for i in range(len(data_list)):\n",
    "    array = arcpy.Array()\n",
    "    ll = arcpy.Point(data_list[i][0], data_list[i][3])\n",
    "    lr = arcpy.Point(data_list[i][2], data_list[i][3])\n",
    "    ur = arcpy.Point(data_list[i][2], data_list[i][1])\n",
    "    ul = arcpy.Point(data_list[i][0], data_list[i][1])\n",
    "    array.add(ll)\n",
    "    array.add(lr)\n",
    "    array.add(ur)\n",
    "    array.add(ul)\n",
    "    array.add(ll)\n",
    "    bboxGeom.append(arcpy.Polygon(array, spatial_ref))\n",
    "\n",
    "arcpy.CopyFeatures_management(bboxGeom, output)\n",
    "        \n"
   ]
  },
  {
   "cell_type": "code",
   "execution_count": null,
   "metadata": {},
   "outputs": [],
   "source": []
  },
  {
   "cell_type": "code",
   "execution_count": null,
   "metadata": {},
   "outputs": [],
   "source": []
  }
 ],
 "metadata": {
  "kernelspec": {
   "display_name": "ArcGISPro",
   "language": "Python",
   "name": "python3"
  },
  "language_info": {
   "file_extension": ".py",
   "name": "python",
   "version": "3"
  }
 },
 "nbformat": 4,
 "nbformat_minor": 2
}
