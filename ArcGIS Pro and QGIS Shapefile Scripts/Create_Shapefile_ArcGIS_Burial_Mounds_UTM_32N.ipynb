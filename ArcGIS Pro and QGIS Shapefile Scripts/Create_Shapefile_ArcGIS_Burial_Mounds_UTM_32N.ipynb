{
 "cells": [
  {
   "cell_type": "code",
   "execution_count": 17,
   "metadata": {},
   "outputs": [
    {
     "data": {
      "text/html": [
       "<div class='gpresult'><h2>Messages</h2><div id='messages' data-messages='[\"Start Time: torsdag 12. mai 2022 13:14:08\",\"Succeeded at torsdag 12. mai 2022 13:14:09 (Elapsed Time: 0,24 seconds)\"]' data-show='true'><div id = 'default' /></div></div>"
      ],
      "text/plain": [
       "<Result 'C:\\\\Test\\\\BMounds_test4.shp'>"
      ]
     },
     "execution_count": 17,
     "metadata": {},
     "output_type": "execute_result"
    }
   ],
   "source": [
    "import os\n",
    "import csv\n",
    "import arcpy\n",
    "\n",
    "#This script creates a shapefile from the csv file of the faster R-CNN object detection model results for burial mounds.\n",
    "\n",
    "input_csv = os.path.join('C:/', 'Test', 'Composite_SLRM_Results_without_Overlap_200_UTM.csv')\n",
    "output_filename = 'BMounds_test4'\n",
    "output_path = os.path.join('C:/', 'Test')\n",
    "output = os.path.join(output_path, output_filename + '.shp')\n",
    "data_list = []\n",
    "# Specifies that the coordinate system is UTM 32N. The number 25832 is the EPSG number of this coordinate system. \n",
    "spatial_ref = arcpy.SpatialReference(25832)\n",
    "\n",
    "with open(input_csv, 'r') as read_obj:\n",
    "    csv_reader = csv.reader(read_obj)\n",
    "    next(csv_reader)\n",
    "    for row in csv_reader:\n",
    "        data_list.append((float(row[4]), float(row[5]), float(row[6]), float(row[7])))\n",
    "        \n",
    "\n",
    "bboxGeom = [] \n",
    "\n",
    "for i in range(len(data_list)):\n",
    "    array = arcpy.Array()\n",
    "    ll = arcpy.Point(data_list[i][0], data_list[i][3])\n",
    "    lr = arcpy.Point(data_list[i][1], data_list[i][3])\n",
    "    ur = arcpy.Point(data_list[i][1], data_list[i][2])\n",
    "    ul = arcpy.Point(data_list[i][0], data_list[i][2])\n",
    "    array.add(ll)\n",
    "    array.add(lr)\n",
    "    array.add(ur)\n",
    "    array.add(ul)\n",
    "    array.add(ll)\n",
    "    bboxGeom.append(arcpy.Polygon(array, spatial_ref))\n",
    "\n",
    "arcpy.CopyFeatures_management(bboxGeom, output)"
   ]
  },
  {
   "cell_type": "code",
   "execution_count": null,
   "metadata": {},
   "outputs": [],
   "source": []
  },
  {
   "cell_type": "code",
   "execution_count": null,
   "metadata": {},
   "outputs": [],
   "source": []
  }
 ],
 "metadata": {
  "kernelspec": {
   "display_name": "ArcGISPro",
   "language": "Python",
   "name": "python3"
  },
  "language_info": {
   "file_extension": ".py",
   "name": "python",
   "version": "3"
  }
 },
 "nbformat": 4,
 "nbformat_minor": 2
}
